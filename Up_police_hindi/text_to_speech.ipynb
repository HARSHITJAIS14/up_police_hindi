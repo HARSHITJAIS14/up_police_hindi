{
 "cells": [
  {
   "cell_type": "code",
   "execution_count": 2,
   "metadata": {},
   "outputs": [
    {
     "name": "stderr",
     "output_type": "stream",
     "text": [
      "LOG (VoskAPI:ReadDataFiles():model.cc:213) Decoding params beam=13 max-active=7000 lattice-beam=6\n",
      "LOG (VoskAPI:ReadDataFiles():model.cc:216) Silence phones 1:2:3:4:5:11:12:13:14:15\n",
      "LOG (VoskAPI:RemoveOrphanNodes():nnet-nnet.cc:948) Removed 0 orphan nodes.\n",
      "LOG (VoskAPI:RemoveOrphanComponents():nnet-nnet.cc:847) Removing 0 orphan components.\n",
      "LOG (VoskAPI:ReadDataFiles():model.cc:248) Loading i-vector extractor from /home/harshit/Desktop/Pclub/Up_police_hindi/model/vosk-model-hi-0.22/ivector/final.ie\n",
      "LOG (VoskAPI:ComputeDerivedVars():ivector-extractor.cc:183) Computing derived variables for iVector extractor\n",
      "LOG (VoskAPI:ComputeDerivedVars():ivector-extractor.cc:204) Done.\n",
      "LOG (VoskAPI:ReadDataFiles():model.cc:279) Loading HCLG from /home/harshit/Desktop/Pclub/Up_police_hindi/model/vosk-model-hi-0.22/graph/HCLG.fst\n",
      "LOG (VoskAPI:ReadDataFiles():model.cc:297) Loading words from /home/harshit/Desktop/Pclub/Up_police_hindi/model/vosk-model-hi-0.22/graph/words.txt\n",
      "LOG (VoskAPI:ReadDataFiles():model.cc:308) Loading winfo /home/harshit/Desktop/Pclub/Up_police_hindi/model/vosk-model-hi-0.22/graph/phones/word_boundary.int\n",
      "LOG (VoskAPI:ReadDataFiles():model.cc:315) Loading subtract G.fst model from /home/harshit/Desktop/Pclub/Up_police_hindi/model/vosk-model-hi-0.22/rescore/G.fst\n",
      "LOG (VoskAPI:ReadDataFiles():model.cc:317) Loading CARPA model from /home/harshit/Desktop/Pclub/Up_police_hindi/model/vosk-model-hi-0.22/rescore/G.carpa\n",
      "LOG (VoskAPI:ReadDataFiles():model.cc:323) Loading RNNLM model from /home/harshit/Desktop/Pclub/Up_police_hindi/model/vosk-model-hi-0.22/rnnlm/final.raw\n"
     ]
    },
    {
     "name": "stdout",
     "output_type": "stream",
     "text": [
      "Transcription:  है  मैं कुछ सपने लेकर भरकर जीवों में आशाएं दिल में है और मांग गई कुछ कर जाएं कुछ रहे हैं सूरज सूरज नहीं मुझमें दीपक जलता देखो सूरज नहीं मुझमें दीपक अपने रोशन करने से तुम मुझको तुम झूठ  भरोसे का वृक्ष नहीं जिसको नदियों में सींचा है  उस माटी का वृक्ष नहीं जिसको नदियों में सींचा है बंजर मोती में पल कर मैंने मृत्यु से जीवन खींचा है मैं पत्थर पर लिखी इबारत मैं पत्थर पर लिखी इबारत हूं कब तक दोगे बेचनेवाला में नाम नहीं तो मुझको कब तक रोकोगे तुम मुझको कब तक   इतने जुल्म नहीं उतने सहने की ताकत है चकमक जितने जुल्म नहीं होते सहने की ताकत है तानों के शोर में रहकर सच कहने की आदत है मैं सागर से भी गहरा हूं मैं सागर से से भी गहरा तुम कितने कंकरों को चुन चुनकर आगे पढूंगा तुम मुझको तो मुझको   झुक झुक कर सीधा अब फिर सूखने का शौक नहीं झुक झुककर सीधा खड़ा हुआ अब झुकने का शौक नहीं अपने ही अर्थ और रजा स्वयं तुमसे मिटने का खौफ नहीं तुम हालातों की भट्टी में जब जब भी मुझको झोकों का तुम मुझको कब तक तुम मुझको कब तक रोकोगे मुझको कब तक\n"
     ]
    }
   ],
   "source": [
    "import os\n",
    "import wave\n",
    "import json\n",
    "from vosk import Model, KaldiRecognizer\n",
    "from pydub import AudioSegment\n",
    "\n",
    "def convert_audio_to_wav(audio_path):\n",
    "    audio = AudioSegment.from_file(audio_path)\n",
    "    wav_path = audio_path.rsplit('.', 1)[0] + '.wav'\n",
    "    audio = audio.set_channels(1).set_frame_rate(16000)\n",
    "    audio.export(wav_path, format='wav')\n",
    "    return wav_path\n",
    "\n",
    "def transcribe_audio_chunk(model, audio_chunk):\n",
    "    rec = KaldiRecognizer(model, audio_chunk.getframerate())\n",
    "    results = []\n",
    "    \n",
    "    while True:\n",
    "        data = audio_chunk.readframes(4000)\n",
    "        if len(data) == 0:\n",
    "            break\n",
    "        if rec.AcceptWaveform(data):\n",
    "            results.append(json.loads(rec.Result()))\n",
    "    \n",
    "    results.append(json.loads(rec.FinalResult()))\n",
    "    transcription = \" \".join([result.get(\"text\", \"\") for result in results])\n",
    "    return transcription\n",
    "\n",
    "def transcribe_audio(audio_path, output_path, chunk_length_ms=15000):\n",
    "    model_path = \"/home/harshit/Desktop/Pclub/Up_police_hindi/model/vosk-model-hi-0.22\"  # Update this path with the correct model path\n",
    "    model = Model(model_path)\n",
    "    wav_path = convert_audio_to_wav(audio_path)\n",
    "\n",
    "    audio = AudioSegment.from_wav(wav_path)\n",
    "    \n",
    "    full_transcription = \"\"\n",
    "    \n",
    "    for i in range(0, len(audio), chunk_length_ms):\n",
    "        chunk = audio[i:i + chunk_length_ms]\n",
    "        chunk_path = f\"chunk_{i}.wav\"\n",
    "        chunk.export(chunk_path, format=\"wav\")\n",
    "        \n",
    "        with wave.open(chunk_path, \"rb\") as wf:\n",
    "            transcription = transcribe_audio_chunk(model, wf)\n",
    "            full_transcription += transcription + \" \"\n",
    "        \n",
    "        os.remove(chunk_path)  \n",
    "    \n",
    "    with open(output_path, \"w\", encoding=\"utf-8\") as file:\n",
    "        file.write(full_transcription.strip())\n",
    "    \n",
    "    print(\"Transcription: \", full_transcription.strip())\n",
    "\n",
    "if __name__ == \"__main__\":\n",
    "\n",
    "    audio_path = \"/home/harshit/Desktop/Pclub/Up_police_hindi/atal-bihari-vajpayee-greatest-speech-ever-in-indian-parliament-manastars-128-ytshorts.savetube.me.wav\"  # wav would be better than mp3\n",
    " \n",
    "    output_path = \"vosk_atal.txt\"  \n",
    "    \n",
    "    transcribe_audio(audio_path, output_path)\n"
   ]
  },
  {
   "cell_type": "code",
   "execution_count": null,
   "metadata": {},
   "outputs": [],
   "source": []
  }
 ],
 "metadata": {
  "kernelspec": {
   "display_name": "Python 3",
   "language": "python",
   "name": "python3"
  },
  "language_info": {
   "codemirror_mode": {
    "name": "ipython",
    "version": 3
   },
   "file_extension": ".py",
   "mimetype": "text/x-python",
   "name": "python",
   "nbconvert_exporter": "python",
   "pygments_lexer": "ipython3",
   "version": "3.10.12"
  }
 },
 "nbformat": 4,
 "nbformat_minor": 2
}
